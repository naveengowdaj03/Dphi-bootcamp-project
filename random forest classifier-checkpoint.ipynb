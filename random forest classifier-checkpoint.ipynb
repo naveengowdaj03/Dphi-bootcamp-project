{
 "cells": [
  {
   "cell_type": "code",
   "execution_count": 1,
   "id": "bf066f1e",
   "metadata": {},
   "outputs": [
    {
     "name": "stdout",
     "output_type": "stream",
     "text": [
      "   Unnamed: 0     HHI    HHDL  Married  CollegGrads  AHHAge  Cars  \\\n",
      "0          61  183414  -12402        1            2      28     1   \n",
      "1         501  129786  700251        2            5      63     3   \n",
      "2         658  268343  493411        2            4      44     1   \n",
      "3         703  290506 -433408        1            1      28     5   \n",
      "4         702   90108  907135        1            3      57     5   \n",
      "\n",
      "   Filed in 2017  Filed in 2016  Filed in 2015 PoliticalParty  \n",
      "0              0              0              1       Democrat  \n",
      "1              0              0              0     Republican  \n",
      "2              1              0              1    Independent  \n",
      "3              1              0              1     Republican  \n",
      "4              1              1              0       Democrat  \n"
     ]
    }
   ],
   "source": [
    "import pandas as pd\n",
    "tax_data=pd.read_csv(\"https://raw.githubusercontent.com/dphi-official/Datasets/master/tax_payers/train_set_label.csv\" )\n",
    "import numpy as np\n",
    "print(tax_data.head())\n",
    "\n"
   ]
  },
  {
   "cell_type": "code",
   "execution_count": 2,
   "id": "39c4331c",
   "metadata": {},
   "outputs": [],
   "source": [
    "import sklearn\n",
    "new_features=tax_data[['Unnamed: 0','HHI','HHDL','Married','CollegGrads','AHHAge','Cars','Filed in 2017','Filed in 2016','Filed in 2015','PoliticalParty']]\n",
    "x=new_features.iloc[:,:-1]\n",
    "y=new_features.iloc[:,-1]\n",
    "np.random.seed(9)"
   ]
  },
  {
   "cell_type": "code",
   "execution_count": null,
   "id": "d0d9061b",
   "metadata": {},
   "outputs": [],
   "source": [
    "from sklearn.ensemble import RandomForestClassifier\n",
    "from sklearn.model_selection import GridSearchCV\n",
    "from sklearn.metrics import accuracy_score\n",
    "from sklearn import metrics\n",
    "import warnings\n",
    "warnings.filterwarnings('ignore')\n",
    "parameters={'n_estimators': [10,50,100],\n",
    "           'max_features':['log2','sqrt'],\n",
    "           'criterion':['gini','entropy'],\n",
    "           'max_depth':[8,9,10],\n",
    "           'min_samples_split':[2,3,4],\n",
    "           'min_samples_split':[2,3,4],\n",
    "          }\n",
    "clf=RandomForestClassifier(random_state=9)\n",
    "model=GridSearchCV(clf,parameters,scoring='accuracy')\n",
    "model.fit(x,y)\n",
    "print(model.best_params_)\n",
    "\n"
   ]
  },
  {
   "cell_type": "code",
   "execution_count": null,
   "id": "2390be8e",
   "metadata": {},
   "outputs": [],
   "source": [
    "import pandas as pd\n",
    "test_data = pd.read_csv('https://raw.githubusercontent.com/dphi-official/Datasets/master/tax_payers/test_set_label.csv')\n",
    "y_pred=model.predict(test_data)"
   ]
  },
  {
   "cell_type": "code",
   "execution_count": null,
   "id": "3e698957",
   "metadata": {},
   "outputs": [],
   "source": [
    "res = pd.DataFrame(y_pred) \n",
    "res.index = test_data.index \n",
    "res.columns = [\"prediction\"]\n",
    "res.to_csv(\"prediction_results_2.csv\", index = False)"
   ]
  },
  {
   "cell_type": "code",
   "execution_count": null,
   "id": "f383a33c",
   "metadata": {},
   "outputs": [],
   "source": [
    "\n",
    "\n"
   ]
  }
 ],
 "metadata": {
  "kernelspec": {
   "display_name": "Python 3 (ipykernel)",
   "language": "python",
   "name": "python3"
  },
  "language_info": {
   "codemirror_mode": {
    "name": "ipython",
    "version": 3
   },
   "file_extension": ".py",
   "mimetype": "text/x-python",
   "name": "python",
   "nbconvert_exporter": "python",
   "pygments_lexer": "ipython3",
   "version": "3.9.7"
  }
 },
 "nbformat": 4,
 "nbformat_minor": 5
}
